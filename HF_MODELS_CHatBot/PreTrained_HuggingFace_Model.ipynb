{
  "nbformat": 4,
  "nbformat_minor": 0,
  "metadata": {
    "colab": {
      "provenance": [],
      "gpuType": "T4",
      "collapsed_sections": [
        "COAgRRxg2WsD",
        "x3X0H6Pc22Qh",
        "DD81br2T2PMI",
        "hvXH7s3TlpGd"
      ]
    },
    "kernelspec": {
      "name": "python3",
      "display_name": "Python 3"
    },
    "language_info": {
      "name": "python"
    },
    "accelerator": "GPU"
  },
  "cells": [
    {
      "cell_type": "markdown",
      "source": [
        "#Using Pretrained 'deepset/roberta-base-squad2' of HuggingFace Model"
      ],
      "metadata": {
        "id": "Bxg7U8iqjaeo"
      }
    },
    {
      "cell_type": "markdown",
      "source": [
        "##Import and install libraries"
      ],
      "metadata": {
        "id": "COAgRRxg2WsD"
      }
    },
    {
      "cell_type": "code",
      "source": [
        "!pip install torch transformers"
      ],
      "metadata": {
        "id": "zJnzZbWbf4D1",
        "outputId": "f9de6add-aec7-4ecd-851d-3485be74f206",
        "colab": {
          "base_uri": "https://localhost:8080/"
        },
        "collapsed": true
      },
      "execution_count": null,
      "outputs": [
        {
          "output_type": "stream",
          "name": "stdout",
          "text": [
            "Requirement already satisfied: torch in /usr/local/lib/python3.10/dist-packages (2.3.0+cu121)\n",
            "Requirement already satisfied: filelock in /usr/local/lib/python3.10/dist-packages (from torch) (3.15.4)\n",
            "Requirement already satisfied: typing-extensions>=4.8.0 in /usr/local/lib/python3.10/dist-packages (from torch) (4.12.2)\n",
            "Requirement already satisfied: sympy in /usr/local/lib/python3.10/dist-packages (from torch) (1.13.0)\n",
            "Requirement already satisfied: networkx in /usr/local/lib/python3.10/dist-packages (from torch) (3.3)\n",
            "Requirement already satisfied: jinja2 in /usr/local/lib/python3.10/dist-packages (from torch) (3.1.4)\n",
            "Requirement already satisfied: fsspec in /usr/local/lib/python3.10/dist-packages (from torch) (2023.6.0)\n",
            "Collecting nvidia-cuda-nvrtc-cu12==12.1.105 (from torch)\n",
            "  Using cached nvidia_cuda_nvrtc_cu12-12.1.105-py3-none-manylinux1_x86_64.whl (23.7 MB)\n",
            "Collecting nvidia-cuda-runtime-cu12==12.1.105 (from torch)\n",
            "  Using cached nvidia_cuda_runtime_cu12-12.1.105-py3-none-manylinux1_x86_64.whl (823 kB)\n",
            "Collecting nvidia-cuda-cupti-cu12==12.1.105 (from torch)\n",
            "  Using cached nvidia_cuda_cupti_cu12-12.1.105-py3-none-manylinux1_x86_64.whl (14.1 MB)\n",
            "Collecting nvidia-cudnn-cu12==8.9.2.26 (from torch)\n",
            "  Using cached nvidia_cudnn_cu12-8.9.2.26-py3-none-manylinux1_x86_64.whl (731.7 MB)\n",
            "Collecting nvidia-cublas-cu12==12.1.3.1 (from torch)\n",
            "  Using cached nvidia_cublas_cu12-12.1.3.1-py3-none-manylinux1_x86_64.whl (410.6 MB)\n",
            "Collecting nvidia-cufft-cu12==11.0.2.54 (from torch)\n",
            "  Using cached nvidia_cufft_cu12-11.0.2.54-py3-none-manylinux1_x86_64.whl (121.6 MB)\n",
            "Collecting nvidia-curand-cu12==10.3.2.106 (from torch)\n",
            "  Using cached nvidia_curand_cu12-10.3.2.106-py3-none-manylinux1_x86_64.whl (56.5 MB)\n",
            "Collecting nvidia-cusolver-cu12==11.4.5.107 (from torch)\n",
            "  Using cached nvidia_cusolver_cu12-11.4.5.107-py3-none-manylinux1_x86_64.whl (124.2 MB)\n",
            "Collecting nvidia-cusparse-cu12==12.1.0.106 (from torch)\n",
            "  Using cached nvidia_cusparse_cu12-12.1.0.106-py3-none-manylinux1_x86_64.whl (196.0 MB)\n",
            "Collecting nvidia-nccl-cu12==2.20.5 (from torch)\n",
            "  Using cached nvidia_nccl_cu12-2.20.5-py3-none-manylinux2014_x86_64.whl (176.2 MB)\n",
            "Collecting nvidia-nvtx-cu12==12.1.105 (from torch)\n",
            "  Using cached nvidia_nvtx_cu12-12.1.105-py3-none-manylinux1_x86_64.whl (99 kB)\n",
            "Requirement already satisfied: triton==2.3.0 in /usr/local/lib/python3.10/dist-packages (from torch) (2.3.0)\n",
            "Collecting nvidia-nvjitlink-cu12 (from nvidia-cusolver-cu12==11.4.5.107->torch)\n",
            "  Downloading nvidia_nvjitlink_cu12-12.5.82-py3-none-manylinux2014_x86_64.whl (21.3 MB)\n",
            "\u001b[2K     \u001b[90m━━━━━━━━━━━━━━━━━━━━━━━━━━━━━━━━━━━━━━━━\u001b[0m \u001b[32m21.3/21.3 MB\u001b[0m \u001b[31m11.4 MB/s\u001b[0m eta \u001b[36m0:00:00\u001b[0m\n",
            "\u001b[?25hRequirement already satisfied: MarkupSafe>=2.0 in /usr/local/lib/python3.10/dist-packages (from jinja2->torch) (2.1.5)\n",
            "Requirement already satisfied: mpmath<1.4,>=1.1.0 in /usr/local/lib/python3.10/dist-packages (from sympy->torch) (1.3.0)\n",
            "Installing collected packages: nvidia-nvtx-cu12, nvidia-nvjitlink-cu12, nvidia-nccl-cu12, nvidia-curand-cu12, nvidia-cufft-cu12, nvidia-cuda-runtime-cu12, nvidia-cuda-nvrtc-cu12, nvidia-cuda-cupti-cu12, nvidia-cublas-cu12, nvidia-cusparse-cu12, nvidia-cudnn-cu12, nvidia-cusolver-cu12\n",
            "Successfully installed nvidia-cublas-cu12-12.1.3.1 nvidia-cuda-cupti-cu12-12.1.105 nvidia-cuda-nvrtc-cu12-12.1.105 nvidia-cuda-runtime-cu12-12.1.105 nvidia-cudnn-cu12-8.9.2.26 nvidia-cufft-cu12-11.0.2.54 nvidia-curand-cu12-10.3.2.106 nvidia-cusolver-cu12-11.4.5.107 nvidia-cusparse-cu12-12.1.0.106 nvidia-nccl-cu12-2.20.5 nvidia-nvjitlink-cu12-12.5.82 nvidia-nvtx-cu12-12.1.105\n"
          ]
        }
      ]
    },
    {
      "cell_type": "code",
      "source": [
        "#import libraries\n",
        "import torch # Pytorch is import for handling tensors outputs and the AutoModelForQuestionAnswering class from Hugging Face Transformers is based on PyTorch\n",
        "from transformers import AutoModelForQuestionAnswering , AutoTokenizer, pipeline  # huggingface transformers and related libraries that make our task easy"
      ],
      "metadata": {
        "id": "VeSY5w9_gCXa"
      },
      "execution_count": null,
      "outputs": []
    },
    {
      "cell_type": "markdown",
      "source": [
        "##Model And Transformer Install"
      ],
      "metadata": {
        "id": "x3X0H6Pc22Qh"
      }
    },
    {
      "cell_type": "code",
      "source": [
        "#uncomment any model_name you wanna test/use\n",
        "\n",
        "# model_name = 'deepset/roberta-base-squad2'\n",
        "model_name = 'bert-base-uncased'\n",
        "\n",
        "model =AutoModelForQuestionAnswering.from_pretrained(model_name)\n",
        "tokenizer = AutoTokenizer.from_pretrained(model_name)"
      ],
      "metadata": {
        "id": "l2ZNk97HgipH",
        "outputId": "b5e19f8f-3fe7-468e-e338-0a4505cf0c12",
        "colab": {
          "base_uri": "https://localhost:8080/"
        }
      },
      "execution_count": null,
      "outputs": [
        {
          "output_type": "stream",
          "name": "stderr",
          "text": [
            "Some weights of BertForQuestionAnswering were not initialized from the model checkpoint at bert-base-uncased and are newly initialized: ['qa_outputs.bias', 'qa_outputs.weight']\n",
            "You should probably TRAIN this model on a down-stream task to be able to use it for predictions and inference.\n"
          ]
        }
      ]
    },
    {
      "cell_type": "markdown",
      "source": [
        "#Test How This Works"
      ],
      "metadata": {
        "id": "DD81br2T2PMI"
      }
    },
    {
      "cell_type": "code",
      "source": [
        "#dummy question and context to checck how this works\n",
        "question = \"How can I manage my anger effectively?\"\n",
        "context = \"Managing anger effectively involves recognizing triggers, practicing relaxation techniques, and communicating assertively rather than aggressively.\""
      ],
      "metadata": {
        "id": "hTxZdvp4gOBg"
      },
      "execution_count": null,
      "outputs": []
    },
    {
      "cell_type": "markdown",
      "source": [
        "## without pipeline\n",
        "\n",
        "More control and flexibility, but requires more manual steps. Useful for customization.Like by showing the details of tokenization, model inference, and decoding"
      ],
      "metadata": {
        "id": "LrfFlR7cumhq"
      }
    },
    {
      "cell_type": "code",
      "source": [
        "input = tokenizer(question, context, return_tensors=\"pt\") #tokenizing the input (question and context)\n",
        "output = model(**input) #passing input to model\n",
        "\n",
        "print(output)"
      ],
      "metadata": {
        "id": "_U2HoZLfguY6"
      },
      "execution_count": null,
      "outputs": []
    },
    {
      "cell_type": "code",
      "source": [
        "# convert numbers/tensors to text\n",
        "\n",
        "answer_start_idx = torch.argmax(output.start_logits)  # start position of answer in context predicted by model\n",
        "answer_end_idx = torch.argmax(output.end_logits)  # end position of answer in context predicted by model\n",
        "\n",
        "answer_tokens = input.input_ids[0,answer_start_idx: answer_end_idx +1] #extracting answer_tokens from context using positions model predicted (answer_start_idx and answer_end_idx)\n",
        "answer = tokenizer.decode(answer_tokens) # converting numbers to text by using decode method\n",
        "\n",
        "print(\"ques: {}\\nanswer: {}\".format(question, answer)) # print question along with answer"
      ],
      "metadata": {
        "id": "aQibc4qshVoa",
        "outputId": "0d703cbe-ff96-4590-d245-f64ce46a0b99",
        "colab": {
          "base_uri": "https://localhost:8080/"
        }
      },
      "execution_count": null,
      "outputs": [
        {
          "output_type": "stream",
          "name": "stdout",
          "text": [
            "ques: How can I manage my anger effectively?\n",
            "answer: can i manage my anger effectively? [SEP] managing anger effectively involves recognizing triggers,\n"
          ]
        }
      ]
    },
    {
      "cell_type": "markdown",
      "source": [
        "##Method2- pipeline\n",
        "\n",
        " Simplifies the process with less code (abstracts away the details of tokenization, model inference, and decoding) , making it convenient and user-friendly for standard tasks."
      ],
      "metadata": {
        "id": "YFo3-xqEi4WJ"
      }
    },
    {
      "cell_type": "code",
      "source": [
        "qa = pipeline('question-answering', model = model_name, tokenizer=model_name)  # initializing pipeline for Q/A task and specifying model and tokenizer\n",
        "output = qa(question, context) # passing input as question and context\n",
        "\n",
        "print(output) #showing output"
      ],
      "metadata": {
        "id": "lWIcmu7Ui5_I",
        "outputId": "0165c58e-eec5-4507-ef96-37f2240125c7",
        "colab": {
          "base_uri": "https://localhost:8080/"
        }
      },
      "execution_count": null,
      "outputs": [
        {
          "output_type": "stream",
          "name": "stderr",
          "text": [
            "Some weights of BertForQuestionAnswering were not initialized from the model checkpoint at bert-base-uncased and are newly initialized: ['qa_outputs.bias', 'qa_outputs.weight']\n",
            "You should probably TRAIN this model on a down-stream task to be able to use it for predictions and inference.\n"
          ]
        },
        {
          "output_type": "stream",
          "name": "stdout",
          "text": [
            "{'score': 0.005337708629667759, 'start': 90, 'end': 121, 'answer': ', and communicating assertively'}\n"
          ]
        }
      ]
    },
    {
      "cell_type": "code",
      "source": [
        "print(output['answer']) # extract only answer from output"
      ],
      "metadata": {
        "id": "9a7I1ltajR20"
      },
      "execution_count": 14,
      "outputs": []
    },
    {
      "cell_type": "markdown",
      "source": [
        "#Q/A For Empathetic ChatBot\n",
        "####PROVIDING CONTEXT CONTAINIG AN EMPATHETIC ASSISTANT LIKE ANSWER/TEXT"
      ],
      "metadata": {
        "id": "hvXH7s3TlpGd"
      }
    },
    {
      "cell_type": "code",
      "source": [
        "# Variable to contain context from which model would answer our questions, related to mental health or depression related issue with empathy\n",
        "\n",
        "document = \"\"\"\n",
        "Understanding Depression and Bullying:\n",
        "Feeling depressed due to bullying or similar issues is a serious concern. Bullying can have a profound impact on mental health, leading to feelings of sadness, loneliness, and low self-esteem. It's important to recognize the signs and seek support.\n",
        "\n",
        "Impact of Bullying on Mental Health:\n",
        "Bullying can cause significant emotional distress and may lead to symptoms of depression, such as:\n",
        "- Persistent sadness or tearfulness\n",
        "- Social withdrawal and isolation\n",
        "- Loss of interest in activities once enjoyed\n",
        "- Changes in sleep or appetite patterns\n",
        "- Feelings of worthlessness or hopelessness\n",
        "- Thoughts of self-harm or suicide\n",
        "\n",
        "Empathetic Support and Coping Strategies:\n",
        "Empathetic support is crucial for individuals experiencing bullying-related depression:\n",
        "- Acknowledge Feelings: Validating the person's emotions and reassuring them that their feelings are understandable.\n",
        "- Encourage Open Communication: Creating a safe space for them to express their thoughts and concerns without fear of judgment.\n",
        "- Provide Coping Strategies: Techniques like mindfulness, relaxation exercises, and talking to a trusted adult or counselor can help manage stress and build resilience.\n",
        "- Address Safety Concerns: Ensuring the individual's safety and taking steps to address the bullying situation through school authorities or other appropriate channels.\n",
        "\n",
        "Seeking Professional Help:\n",
        "It's important to seek professional help if feelings of depression persist or worsen:\n",
        "- Therapy and Counseling: Professional therapists can provide strategies to cope with bullying-related stress and improve overall well-being.\n",
        "- Support Groups: Joining support groups with peers who have similar experiences can provide understanding and encouragement.\n",
        "- Crisis Intervention: Immediate support is available through crisis hotlines and emergency mental health services.\n",
        "\n",
        "Promoting Resilience and Self-Care:\n",
        "Building resilience and practicing self-care are essential:\n",
        "- Building a Support Network: Surrounding oneself with supportive friends and family members can provide emotional strength.\n",
        "- Setting Boundaries: Learning to assert boundaries and avoid situations that may exacerbate stress or negative emotions.\n",
        "- Self-Care Practices: Engaging in activities that promote relaxation and self-compassion, such as hobbies, exercise, and adequate sleep.\n",
        "\n",
        "Encouraging Open Dialogue:\n",
        "Encouraging open dialogue about bullying and its impact helps reduce stigma and promotes understanding. By fostering empathy and providing resources, we can support those affected by bullying-related depression and help them on their path to recovery.\n",
        "\"\"\"\n",
        "\n"
      ],
      "metadata": {
        "id": "rOKCdCU9lz0R"
      },
      "execution_count": 7,
      "outputs": []
    },
    {
      "cell_type": "markdown",
      "source": [
        "**DIFFERENCE BETWEEN PIPELINE AND WITHOUT PIPELINE APPROACH :**\n",
        "\n",
        "**Non-Pipeline:** More control and flexibility, but requires more manual steps. Useful for customization.\n",
        "\n",
        "**Pipeline:** Simplifies the process with less code, making it convenient and user-friendly for standard tasks."
      ],
      "metadata": {
        "id": "Tt0RAO8VwIp4"
      }
    },
    {
      "cell_type": "markdown",
      "source": [
        "##WITHOUT PIPELINE"
      ],
      "metadata": {
        "id": "Cekn8HzYuOxp"
      }
    },
    {
      "cell_type": "code",
      "source": [
        "while True:\n",
        "    # Take user question as input\n",
        "    user_question = input(\"Please enter your question (or type 'exit' to quit): \")\n",
        "    if user_question.lower() == 'exit':\n",
        "        break\n",
        "\n",
        "    # Tokenize the input question with the common context\n",
        "    inputs = tokenizer(user_question, document, return_tensors=\"pt\")\n",
        "    outputs = model(**inputs)\n",
        "\n",
        "    # Find the start and end indices of the answer\n",
        "    answer_start_idx = torch.argmax(outputs.start_logits)\n",
        "    answer_end_idx = torch.argmax(outputs.end_logits)\n",
        "\n",
        "    # Decode the answer tokens\n",
        "    answer_tokens = inputs.input_ids[0, answer_start_idx: answer_end_idx + 1]\n",
        "    answer = tokenizer.decode(answer_tokens, skip_special_tokens=True)\n",
        "\n",
        "    # Print the question and answer\n",
        "    print(\"\\n [Q] :{} \\n [A]: {}\".format(user_question, answer),'\\n')\n"
      ],
      "metadata": {
        "colab": {
          "base_uri": "https://localhost:8080/"
        },
        "id": "yz4IiT-jtyzP",
        "outputId": "0294dc35-1bf3-4e18-d3b5-d7f4eee3806a"
      },
      "execution_count": 12,
      "outputs": [
        {
          "name": "stdout",
          "output_type": "stream",
          "text": [
            "Please enter your question (or type 'exit' to quit): What are some coping strategies for dealing with bullying-related depression?\n",
            "\n",
            " [Q] :What are some coping strategies for dealing with bullying-related depression? \n",
            " [A]: person's emotions and reassuring them that their feelings are understandable. - encourage open communication : creating a safe space for them to express their thoughts and concerns without fear of judgment. - provide coping strategies : techniques like mindfulness, relaxation exercises, and talking to a trusted adult or counselor can help manage stress and build resilience. - address safety concerns : ensuring the individual's safety and taking steps to address the bullying situation \n",
            "\n",
            "Please enter your question (or type 'exit' to quit): exit\n"
          ]
        }
      ]
    },
    {
      "cell_type": "markdown",
      "source": [
        "**some questions to test**\n",
        "\n",
        "I feel really down because I'm being bullied at school. What should I do?\n",
        "\n",
        "How does bullying affect mental health?\n",
        "\n",
        "What are some signs that bullying is causing depression?\n",
        "\n",
        "Can talking to someone help me feel better about being bullied?\n",
        "\n",
        "What are some coping strategies for dealing with bullying-related depression?"
      ],
      "metadata": {
        "id": "qylFnhVTuaXE"
      }
    },
    {
      "cell_type": "markdown",
      "source": [
        "## USING HUGGING FACE TRANSFORMER'S PIPELINE"
      ],
      "metadata": {
        "id": "CtyNLjG1uSGz"
      }
    },
    {
      "cell_type": "code",
      "source": [
        "# Load the question-answering pipeline\n",
        "qa = pipeline('question-answering', model=model_name, tokenizer=model_name)\n",
        "\n",
        "\n",
        "def answer_question(user_question, context):\n",
        "    # Prepare the input for the QA model\n",
        "    qa_input = {\n",
        "        'question': user_question,\n",
        "        'context': context\n",
        "    }\n",
        "    # Get the answer from the QA model\n",
        "    answer = qa(qa_input)\n",
        "    return answer\n",
        "\n",
        "# Example usage\n",
        "user_question = input(\"Please enter your question: \")\n",
        "context = document  # Use the predefined document as context\n",
        "\n",
        "output = answer_question(user_question, context)\n",
        "print('[A]', output['answer'])\n"
      ],
      "metadata": {
        "id": "nCNM3W6Nlqum",
        "outputId": "f62aa84b-49c3-4725-f5b1-57b35ec29e6d",
        "colab": {
          "base_uri": "https://localhost:8080/"
        }
      },
      "execution_count": null,
      "outputs": [
        {
          "output_type": "stream",
          "name": "stdout",
          "text": [
            "Please enter your question: I feel really down because I'm being bullied at school. What should I do?\n",
            "[A] seek support\n"
          ]
        }
      ]
    },
    {
      "cell_type": "markdown",
      "source": [
        "Few test questions"
      ],
      "metadata": {
        "id": "Z-E8zNxyszyS"
      }
    },
    {
      "cell_type": "code",
      "source": [
        "user_question = input(\"Please enter your question: \")\n",
        "context = document  # Using the predefined document as context\n",
        "\n",
        "output = answer_question(user_question, context)\n",
        "print('[A]', output['answer'])"
      ],
      "metadata": {
        "id": "-QFZUaCsl2z-",
        "outputId": "d645a750-08b6-4575-8226-e05719b2e109",
        "colab": {
          "base_uri": "https://localhost:8080/"
        }
      },
      "execution_count": null,
      "outputs": [
        {
          "output_type": "stream",
          "name": "stdout",
          "text": [
            "Please enter your question: How does bullying affect mental health?\n",
            "[A] feelings of sadness, loneliness, and low self-esteem\n"
          ]
        }
      ]
    },
    {
      "cell_type": "code",
      "source": [
        "user_question = input(\"Please enter your question: \")\n",
        "context = document\n",
        "\n",
        "output = answer_question(user_question, context)\n",
        "print('[A]', output['answer'])"
      ],
      "metadata": {
        "id": "gSJ0hHlHmx1Q",
        "outputId": "814ebcad-50be-4360-9fa0-f72869c11e1d",
        "colab": {
          "base_uri": "https://localhost:8080/"
        }
      },
      "execution_count": null,
      "outputs": [
        {
          "output_type": "stream",
          "name": "stdout",
          "text": [
            "Please enter your question: What are some signs that bullying is causing depression?\n",
            "[A] sadness, loneliness, and low self-esteem\n"
          ]
        }
      ]
    },
    {
      "cell_type": "code",
      "source": [
        "user_question = input(\"Please enter your question: \\n\")\n",
        "context = document\n",
        "\n",
        "output = answer_question(user_question, context)\n",
        "print('[A]', output['answer'])"
      ],
      "metadata": {
        "id": "UZzUKUYnm6fG",
        "outputId": "762a19ec-f6d5-4b5f-c23e-b7d2efbea3d7",
        "colab": {
          "base_uri": "https://localhost:8080/"
        }
      },
      "execution_count": null,
      "outputs": [
        {
          "output_type": "stream",
          "name": "stdout",
          "text": [
            "Please enter your question: \n",
            "i am feeling bad no one care about me what should i do ? i  have no reason to live\n",
            "[A] Therapy and Counseling\n"
          ]
        }
      ]
    }
  ]
}